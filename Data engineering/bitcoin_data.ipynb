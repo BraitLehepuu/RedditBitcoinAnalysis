{
 "cells": [
  {
   "cell_type": "markdown",
   "id": "2f7b27b1",
   "metadata": {},
   "source": [
    "To make analyzing the data easier, we are first going to convert the minute by minute Bitcoin data into different forms (daily, weekly, monthly) and store that data into different csv files for the ease of use later on."
   ]
  },
  {
   "cell_type": "code",
   "execution_count": 15,
   "id": "57aa8f2e",
   "metadata": {},
   "outputs": [],
   "source": [
    "import pandas as pd\n",
    "\n",
    "raw_data = pd.read_csv('..\\\\data\\\\btc_usd_min_ohlc.csv').dropna(how='any')"
   ]
  },
  {
   "cell_type": "code",
   "execution_count": 20,
   "id": "93af8019",
   "metadata": {},
   "outputs": [
    {
     "data": {
      "text/html": [
       "<div>\n",
       "<style scoped>\n",
       "    .dataframe tbody tr th:only-of-type {\n",
       "        vertical-align: middle;\n",
       "    }\n",
       "\n",
       "    .dataframe tbody tr th {\n",
       "        vertical-align: top;\n",
       "    }\n",
       "\n",
       "    .dataframe thead th {\n",
       "        text-align: right;\n",
       "    }\n",
       "</style>\n",
       "<table border=\"1\" class=\"dataframe\">\n",
       "  <thead>\n",
       "    <tr style=\"text-align: right;\">\n",
       "      <th></th>\n",
       "      <th>Timestamp</th>\n",
       "      <th>Open</th>\n",
       "      <th>High</th>\n",
       "      <th>Low</th>\n",
       "      <th>Close</th>\n",
       "      <th>Volume_(BTC)</th>\n",
       "      <th>Volume_(Currency)</th>\n",
       "      <th>Weighted_Price</th>\n",
       "    </tr>\n",
       "  </thead>\n",
       "  <tbody>\n",
       "    <tr>\n",
       "      <th>4857372</th>\n",
       "      <td>1617148560</td>\n",
       "      <td>58714.31</td>\n",
       "      <td>58714.31</td>\n",
       "      <td>58686.00</td>\n",
       "      <td>58686.00</td>\n",
       "      <td>1.384487</td>\n",
       "      <td>81259.372187</td>\n",
       "      <td>58692.753339</td>\n",
       "    </tr>\n",
       "    <tr>\n",
       "      <th>4857373</th>\n",
       "      <td>1617148620</td>\n",
       "      <td>58683.97</td>\n",
       "      <td>58693.43</td>\n",
       "      <td>58683.97</td>\n",
       "      <td>58685.81</td>\n",
       "      <td>7.294848</td>\n",
       "      <td>428158.146640</td>\n",
       "      <td>58693.226508</td>\n",
       "    </tr>\n",
       "    <tr>\n",
       "      <th>4857374</th>\n",
       "      <td>1617148680</td>\n",
       "      <td>58693.43</td>\n",
       "      <td>58723.84</td>\n",
       "      <td>58693.43</td>\n",
       "      <td>58723.84</td>\n",
       "      <td>1.705682</td>\n",
       "      <td>100117.070370</td>\n",
       "      <td>58696.198496</td>\n",
       "    </tr>\n",
       "    <tr>\n",
       "      <th>4857375</th>\n",
       "      <td>1617148740</td>\n",
       "      <td>58742.18</td>\n",
       "      <td>58770.38</td>\n",
       "      <td>58742.18</td>\n",
       "      <td>58760.59</td>\n",
       "      <td>0.720415</td>\n",
       "      <td>42332.958633</td>\n",
       "      <td>58761.866202</td>\n",
       "    </tr>\n",
       "    <tr>\n",
       "      <th>4857376</th>\n",
       "      <td>1617148800</td>\n",
       "      <td>58767.75</td>\n",
       "      <td>58778.18</td>\n",
       "      <td>58755.97</td>\n",
       "      <td>58778.18</td>\n",
       "      <td>2.712831</td>\n",
       "      <td>159417.751000</td>\n",
       "      <td>58764.349363</td>\n",
       "    </tr>\n",
       "  </tbody>\n",
       "</table>\n",
       "</div>"
      ],
      "text/plain": [
       "          Timestamp      Open      High       Low     Close  Volume_(BTC)  \\\n",
       "4857372  1617148560  58714.31  58714.31  58686.00  58686.00      1.384487   \n",
       "4857373  1617148620  58683.97  58693.43  58683.97  58685.81      7.294848   \n",
       "4857374  1617148680  58693.43  58723.84  58693.43  58723.84      1.705682   \n",
       "4857375  1617148740  58742.18  58770.38  58742.18  58760.59      0.720415   \n",
       "4857376  1617148800  58767.75  58778.18  58755.97  58778.18      2.712831   \n",
       "\n",
       "         Volume_(Currency)  Weighted_Price  \n",
       "4857372       81259.372187    58692.753339  \n",
       "4857373      428158.146640    58693.226508  \n",
       "4857374      100117.070370    58696.198496  \n",
       "4857375       42332.958633    58761.866202  \n",
       "4857376      159417.751000    58764.349363  "
      ]
     },
     "execution_count": 20,
     "metadata": {},
     "output_type": "execute_result"
    }
   ],
   "source": [
    "raw_data.tail()"
   ]
  },
  {
   "cell_type": "markdown",
   "id": "5b8e0f43",
   "metadata": {},
   "source": [
    "First lets define a function to help gather data about timeframes"
   ]
  },
  {
   "cell_type": "code",
   "execution_count": 27,
   "id": "5894bca9",
   "metadata": {},
   "outputs": [],
   "source": [
    "def get_data_in_period(start_time, end_time):\n",
    "    period_data = raw_data.loc[(raw_data['Timestamp'] >= start_time) & (raw_data['Timestamp'] < end_time)]\n",
    "    \n",
    "    return_data = dict(period_start_utc=[None], volume=[None], open=[None], high=[None], low=[None], close=[None])\n",
    "    data_stats = period_data.describe()\n",
    "    if data_stats['Open']['count'] == 0:\n",
    "        return return_data\n",
    "    \n",
    "    return_data['period_start_utc'] = [start_time]\n",
    "    return_data['volume'] = [period_data['Volume_(BTC)'].sum()]\n",
    "    return_data['open'] = [period_data['Open'].iat[0]]\n",
    "    return_data['high'] = [data_stats['High']['max']]\n",
    "    return_data['low'] = [data_stats['Low']['min']]\n",
    "    return_data['close'] = [period_data['Close'].iat[-1]]\n",
    "    \n",
    "    return return_data"
   ]
  },
  {
   "cell_type": "markdown",
   "id": "a693daf5",
   "metadata": {},
   "source": [
    "Lets get the daily data"
   ]
  },
  {
   "cell_type": "code",
   "execution_count": 28,
   "id": "eee444fb",
   "metadata": {},
   "outputs": [],
   "source": [
    "start_time = 1325376000  # 01-01-2012 00:00:00 (second day since when we have data from)\n",
    "end_time = 1617148800  # 31-03-2021 00:00:00 (last day that we have data from)\n",
    "\n",
    "current_time = start_time\n",
    "\n",
    "daily_data = []\n",
    "\n",
    "while current_time < end_time:\n",
    "    day_data = get_data_in_period(current_time, current_time + 86399)  # From current_time till the end of the day (23:59:59)\n",
    "    daily_data.append(pd.DataFrame.from_dict(day_data))\n",
    "    current_time += 86400\n",
    "    \n",
    "daily_dataframe = pd.concat(daily_data)\n",
    "daily_dataframe.to_csv(\"..\\\\data\\\\bitcoin_ohlc_daily.csv\")"
   ]
  },
  {
   "cell_type": "markdown",
   "id": "7be2134b",
   "metadata": {},
   "source": [
    "Lets get the weekly data"
   ]
  },
  {
   "cell_type": "code",
   "execution_count": null,
   "id": "fbf81bc9",
   "metadata": {},
   "outputs": [],
   "source": [
    "start_time = 1325462400  # 02-01-2012 00:00:00 (second day since when we have data from)\n",
    "end_time = 1616976000  # 29-03-2021 00:00:00 (last day that we have data from)\n",
    "\n",
    "current_time = start_time\n",
    "\n",
    "daily_data = []\n",
    "\n",
    "while current_time < end_time:\n",
    "    day_data = get_data_in_period(current_time, current_time + 86399)  # From current_time till the end of the day (23:59:59)\n",
    "    daily_data.append(pd.DataFrame.from_dict(day_data))\n",
    "    current_time += 86400\n",
    "    \n",
    "daily_dataframe = pd.concat(daily_data)\n",
    "daily_dataframe.to_csv(\"..\\\\data\\\\bitcoin_ohlc_daily.csv\")"
   ]
  }
 ],
 "metadata": {
  "kernelspec": {
   "display_name": "Python 3 (ipykernel)",
   "language": "python",
   "name": "python3"
  },
  "language_info": {
   "codemirror_mode": {
    "name": "ipython",
    "version": 3
   },
   "file_extension": ".py",
   "mimetype": "text/x-python",
   "name": "python",
   "nbconvert_exporter": "python",
   "pygments_lexer": "ipython3",
   "version": "3.9.1"
  }
 },
 "nbformat": 4,
 "nbformat_minor": 5
}
