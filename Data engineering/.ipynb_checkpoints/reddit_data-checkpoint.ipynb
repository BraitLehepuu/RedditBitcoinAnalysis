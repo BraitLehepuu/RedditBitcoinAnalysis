{
 "cells": [
  {
   "cell_type": "markdown",
   "id": "246bc050",
   "metadata": {},
   "source": [
    "To make analyzing the data easier, we are first going to convert the reddit data into different forms (daily, weekly, monthly ohlc) of volume, highest score, lowest score, average score, mean score and store that data into different csv files for the ease of use later on."
   ]
  },
  {
   "cell_type": "code",
   "execution_count": 27,
   "id": "edc3e1f4",
   "metadata": {},
   "outputs": [
    {
     "name": "stderr",
     "output_type": "stream",
     "text": [
      "C:\\Users\\Brait\\AppData\\Local\\Temp\\ipykernel_19120\\3290611804.py:3: DtypeWarning: Columns (0,1,2,3,4,8) have mixed types. Specify dtype option on import or set low_memory=False.\n",
      "  raw_data = pd.read_csv('..\\\\data\\\\reddit_comments.csv')\n"
     ]
    }
   ],
   "source": [
    "import pandas as pd\n",
    "\n",
    "raw_data = pd.read_csv('..\\\\data\\\\reddit_comments.csv')\n",
    "raw_data = raw_data.sort_values(\"created_utc\")"
   ]
  },
  {
   "cell_type": "markdown",
   "id": "dee550e2",
   "metadata": {},
   "source": [
    "First lets create a function that helps calculate the data for a given timeframe."
   ]
  },
  {
   "cell_type": "code",
   "execution_count": 43,
   "id": "a6396860",
   "metadata": {},
   "outputs": [],
   "source": [
    "def get_data_in_period(start_time, end_time):\n",
    "    period_data = raw_data.loc[(raw_data['created_utc'] >= start_time) & (raw_data['created_utc'] < end_time)]\n",
    "    \n",
    "    return_data = dict()\n",
    "    data_stats = period_data['score'].describe()\n",
    "    \n",
    "    return_data['period_start_utc'] = [start_time]\n",
    "    return_data['volume'] = [data_stats['count']]\n",
    "    return_data['max_score'] = [data_stats['max']]\n",
    "    return_data['min_score'] = [data_stats['min']]\n",
    "    return_data['avg_score'] = [data_stats['mean']]\n",
    "    return_data['median_score'] = [data_stats['50%']]\n",
    "    \n",
    "    return return_data"
   ]
  },
  {
   "cell_type": "markdown",
   "id": "befcc90c",
   "metadata": {},
   "source": [
    "Now let's start by saving the daily data"
   ]
  },
  {
   "cell_type": "code",
   "execution_count": 45,
   "id": "94cbf6fc",
   "metadata": {},
   "outputs": [],
   "source": [
    "start_time = 1241827200  # 09-05-2009 00:00:00 (second day since when we have data from)\n",
    "end_time = 1577836800  # 01-01-2020 00:00:00 (last day that we have data from)\n",
    "#end_time = 1242259200\n",
    "\n",
    "current_time = start_time\n",
    "\n",
    "daily_data = []\n",
    "\n",
    "while current_time < end_time:\n",
    "    day_data = get_data_in_period(current_time, current_time + 86399)  # From current_time till the end of the day (23:59:59)\n",
    "    daily_data.append(pd.DataFrame.from_dict(day_data))\n",
    "    current_time += 86400\n",
    "    \n",
    "daily_dataframe = pd.concat(daily_data)\n",
    "daily_dataframe.to_csv(\"..\\\\data\\\\reddit_comments_daily.csv\")"
   ]
  },
  {
   "cell_type": "markdown",
   "id": "3083e9c8",
   "metadata": {},
   "source": [
    "Weekly data"
   ]
  },
  {
   "cell_type": "code",
   "execution_count": null,
   "id": "a764d1b3",
   "metadata": {},
   "outputs": [],
   "source": [
    "start_time = 1242000000  # 11-05-2009 00:00:00 (first monday since when we have data from)\n",
    "end_time = 1577664000  # 01-01-2020 00:00:00 (last monday in the dataset)\n",
    "#end_time = 1242259200\n",
    "\n",
    "current_time = start_time\n",
    "\n",
    "daily_data = []\n",
    "\n",
    "while current_time < end_time:\n",
    "    day_data = get_data_in_period(current_time, current_time + 604799)  # From current_time till the end of the day (23:59:59)\n",
    "    daily_data.append(pd.DataFrame.from_dict(day_data))\n",
    "    current_time += 604800\n",
    "    \n",
    "daily_dataframe = pd.concat(daily_data)\n",
    "daily_dataframe.to_csv(\"..\\\\data\\\\reddit_comments_weekly.csv\")"
   ]
  }
 ],
 "metadata": {
  "kernelspec": {
   "display_name": "Python 3 (ipykernel)",
   "language": "python",
   "name": "python3"
  },
  "language_info": {
   "codemirror_mode": {
    "name": "ipython",
    "version": 3
   },
   "file_extension": ".py",
   "mimetype": "text/x-python",
   "name": "python",
   "nbconvert_exporter": "python",
   "pygments_lexer": "ipython3",
   "version": "3.9.1"
  }
 },
 "nbformat": 4,
 "nbformat_minor": 5
}
