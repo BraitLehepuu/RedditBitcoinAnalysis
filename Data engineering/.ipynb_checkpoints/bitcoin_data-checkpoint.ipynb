{
 "cells": [
  {
   "cell_type": "markdown",
   "id": "960c2da7",
   "metadata": {},
   "source": [
    "To make analyzing the data easier, we are first going to convert the minute by minute Bitcoin data into different forms (daily, weekly, monthly) and store that data into different csv files for the ease of use later on."
   ]
  },
  {
   "cell_type": "code",
   "execution_count": 15,
   "id": "8bb86f53",
   "metadata": {},
   "outputs": [],
   "source": [
    "import pandas as pd\n",
    "\n",
    "raw_data = pd.read_csv('..\\\\data\\\\btc_usd_min_ohlc.csv').dropna(how='any')"
   ]
  },
  {
   "cell_type": "markdown",
   "id": "4d210850",
   "metadata": {},
   "source": [
    "First lets define a function to help gather data about timeframes"
   ]
  },
  {
   "cell_type": "code",
   "execution_count": 30,
   "id": "5061eecd",
   "metadata": {},
   "outputs": [],
   "source": [
    "def get_data_in_period(start_time, end_time):\n",
    "    period_data = raw_data.loc[(raw_data['Timestamp'] >= start_time) & (raw_data['Timestamp'] < end_time)]\n",
    "    \n",
    "    return_data = dict(period_start_utc=[None], volume=[None], open=[None], high=[None], low=[None], close=[None])\n",
    "    data_stats = period_data.describe()\n",
    "    if data_stats['Open']['count'] == 0:\n",
    "        return return_data\n",
    "    \n",
    "    return_data['period_start_utc'] = [start_time]\n",
    "    return_data['volume'] = [period_data['Volume_(BTC)'].sum()]\n",
    "    return_data['open'] = [period_data['Open'].iat[0]]\n",
    "    return_data['high'] = [data_stats['High']['max']]\n",
    "    return_data['low'] = [data_stats['Low']['min']]\n",
    "    return_data['close'] = [period_data['Close'].iat[-1]]\n",
    "    \n",
    "    return return_data"
   ]
  },
  {
   "cell_type": "markdown",
   "id": "3eaea1bd",
   "metadata": {},
   "source": [
    "Lets get the daily data"
   ]
  },
  {
   "cell_type": "code",
   "execution_count": 28,
   "id": "3eeffe8f",
   "metadata": {},
   "outputs": [],
   "source": [
    "start_time = 1325376000  # 01-01-2012 00:00:00 (second day since when we have data from)\n",
    "end_time = 1617148800  # 31-03-2021 00:00:00 (last day that we have data from)\n",
    "\n",
    "current_time = start_time\n",
    "\n",
    "daily_data = []\n",
    "\n",
    "while current_time < end_time:\n",
    "    day_data = get_data_in_period(current_time, current_time + 86399)  # From current_time till the end of the day (23:59:59)\n",
    "    daily_data.append(pd.DataFrame.from_dict(day_data))\n",
    "    current_time += 86400\n",
    "    \n",
    "daily_dataframe = pd.concat(daily_data)\n",
    "daily_dataframe.to_csv(\"..\\\\data\\\\bitcoin_ohlc_daily.csv\")"
   ]
  },
  {
   "cell_type": "markdown",
   "id": "1a8fd518",
   "metadata": {},
   "source": [
    "Lets get the weekly data"
   ]
  },
  {
   "cell_type": "code",
   "execution_count": 29,
   "id": "9868a8c3",
   "metadata": {},
   "outputs": [],
   "source": [
    "start_time = 1325462400  # 02-01-2012 00:00:00 (first monday since when we have data from)\n",
    "end_time = 1616976000  # 29-03-2021 00:00:00 (last monday in the dataset)\n",
    "\n",
    "current_time = start_time\n",
    "\n",
    "daily_data = []\n",
    "\n",
    "while current_time < end_time:\n",
    "    day_data = get_data_in_period(current_time, current_time + 604799)  # From current_time till the end of the day (23:59:59)\n",
    "    daily_data.append(pd.DataFrame.from_dict(day_data))\n",
    "    current_time += 604800\n",
    "    \n",
    "daily_dataframe = pd.concat(daily_data)\n",
    "daily_dataframe.to_csv(\"..\\\\data\\\\bitcoin_ohlc_weekly.csv\")"
   ]
  }
 ],
 "metadata": {
  "kernelspec": {
   "display_name": "Python 3 (ipykernel)",
   "language": "python",
   "name": "python3"
  },
  "language_info": {
   "codemirror_mode": {
    "name": "ipython",
    "version": 3
   },
   "file_extension": ".py",
   "mimetype": "text/x-python",
   "name": "python",
   "nbconvert_exporter": "python",
   "pygments_lexer": "ipython3",
   "version": "3.9.1"
  }
 },
 "nbformat": 4,
 "nbformat_minor": 5
}
